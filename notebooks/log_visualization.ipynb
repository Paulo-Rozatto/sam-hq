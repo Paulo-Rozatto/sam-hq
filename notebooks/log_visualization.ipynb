{
 "cells": [
  {
   "cell_type": "code",
   "execution_count": 12,
   "metadata": {},
   "outputs": [],
   "source": [
    "file_path = \"\"\n",
    "\n",
    "with open(file_path) as file:\n",
    "    log = file.read()"
   ]
  },
  {
   "cell_type": "code",
   "execution_count": null,
   "metadata": {},
   "outputs": [],
   "source": [
    "import re\n",
    "\n",
    "pattern = \"Averaged stats: training_loss: ([\\d|\\.]+).{11}loss_mask: ([\\d|\\.]+).{11}loss_dice: ([\\d|\\.]+)\"\n",
    "losses = re.findall(pattern, log)\n",
    "\n",
    "pattern = \"Averaged stats: val_iou_0: ([\\d|\\.]+).{10} val_boundary_iou_0: ([\\d|\\.]+)\"\n",
    "ious = re.findall(pattern, log)\n",
    "\n",
    "print(losses, ious, sep='\\n')"
   ]
  },
  {
   "cell_type": "code",
   "execution_count": null,
   "metadata": {},
   "outputs": [],
   "source": [
    "import matplotlib.pyplot as plt\n",
    "\n",
    "plt.figure(figsize=(20, 10))\n",
    "\n",
    "def plot(titles, data_points, offset):\n",
    "    for idx, title in enumerate(titles):\n",
    "        data = [float(x[idx]) for x in data_points]\n",
    "        ax = plt.subplot(2, 3, idx + offset)\n",
    "        plt.plot(data, marker='o')\n",
    "        plt.title(title)\n",
    "        plt.grid(axis='y')\n",
    "        plt.xticks(range(len(data)))\n",
    "        ax.set_axisbelow(True)\n",
    "    \n",
    "        for x, y in enumerate(data):\n",
    "            label = str(y)\n",
    "            plt.text(x, y, label, horizontalalignment='center', color='blue', bbox={'facecolor': 'white', 'alpha': 0.6})\n",
    "\n",
    "plot([\"Training Loss\", \"Loss Mask\", \"Loss Dice\"], losses, 1)\n",
    "plot([\"val_iou_0\", \"val_boundary_iou_0\"], ious, 4)\n",
    "\n",
    "plt.show()\n"
   ]
  }
 ],
 "metadata": {
  "kernelspec": {
   "display_name": ".venv",
   "language": "python",
   "name": "python3"
  },
  "language_info": {
   "codemirror_mode": {
    "name": "ipython",
    "version": 3
   },
   "file_extension": ".py",
   "mimetype": "text/x-python",
   "name": "python",
   "nbconvert_exporter": "python",
   "pygments_lexer": "ipython3",
   "version": "3.10.12"
  }
 },
 "nbformat": 4,
 "nbformat_minor": 2
}
